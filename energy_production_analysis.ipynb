{
 "cells": [
  {
   "cell_type": "markdown",
   "id": "1ea26744-aa38-4f4e-a83c-8f833cde0dfc",
   "metadata": {},
   "source": [
    "# Production of electricity through renewable sources: A comparative between Brazil's production and the three economies ahead of Brazil on IMF's nominal GDP rank for 2020."
   ]
  },
  {
   "cell_type": "markdown",
   "id": "cf2a2c3b-044d-498d-aef9-7204f6fa9f0d",
   "metadata": {
    "tags": []
   },
   "source": [
    "### Importing necessary libraries"
   ]
  },
  {
   "cell_type": "code",
   "execution_count": 39,
   "id": "b6562a3d-013d-42b7-8757-54b0ee16e675",
   "metadata": {},
   "outputs": [],
   "source": [
    "import pandas as pd\n",
    "import matplotlib.pyplot as plt\n",
    "import seaborn as sns\n",
    "\n",
    "%matplotlib inline"
   ]
  },
  {
   "cell_type": "code",
   "execution_count": 2,
   "id": "5f803307-b381-48b8-b1c6-a09149e34f19",
   "metadata": {},
   "outputs": [],
   "source": [
    "# Create DataFrame\n",
    "# Columns repeated after the method to specify the desired order."
   ]
  },
  {
   "cell_type": "code",
   "execution_count": 9,
   "id": "202291e3-d25b-401b-ae2e-a4cefdf5e565",
   "metadata": {},
   "outputs": [],
   "source": [
    "production = pd.read_csv('Electricity_Production_By_Source.csv', usecols=['Entity', 'Year', 'Electricity from hydro (TWh)', 'Electricity from solar (TWh)', 'Electricity from wind (TWh)', 'Electricity from other renewables (TWh)'],\n",
    "index_col='Entity')[['Year', 'Electricity from hydro (TWh)', 'Electricity from solar (TWh)', 'Electricity from wind (TWh)', 'Electricity from other renewables (TWh)']]\n",
    "\n",
    "# Index set directly in the read_csv method, as well as choosing the desired columns with use_col="
   ]
  },
  {
   "cell_type": "code",
   "execution_count": 8,
   "id": "7d342978-30d8-4de5-be9a-3f1c89a7e61c",
   "metadata": {},
   "outputs": [
    {
     "data": {
      "text/html": [
       "<div>\n",
       "<style scoped>\n",
       "    .dataframe tbody tr th:only-of-type {\n",
       "        vertical-align: middle;\n",
       "    }\n",
       "\n",
       "    .dataframe tbody tr th {\n",
       "        vertical-align: top;\n",
       "    }\n",
       "\n",
       "    .dataframe thead th {\n",
       "        text-align: right;\n",
       "    }\n",
       "</style>\n",
       "<table border=\"1\" class=\"dataframe\">\n",
       "  <thead>\n",
       "    <tr style=\"text-align: right;\">\n",
       "      <th></th>\n",
       "      <th>Year</th>\n",
       "      <th>Electricity from hydro (TWh)</th>\n",
       "      <th>Electricity from solar (TWh)</th>\n",
       "      <th>Electricity from wind (TWh)</th>\n",
       "      <th>Electricity from other renewables (TWh)</th>\n",
       "    </tr>\n",
       "    <tr>\n",
       "      <th>Entity</th>\n",
       "      <th></th>\n",
       "      <th></th>\n",
       "      <th></th>\n",
       "      <th></th>\n",
       "      <th></th>\n",
       "    </tr>\n",
       "  </thead>\n",
       "  <tbody>\n",
       "    <tr>\n",
       "      <th>Afghanistan</th>\n",
       "      <td>2000</td>\n",
       "      <td>0.312</td>\n",
       "      <td>0.0</td>\n",
       "      <td>0.0</td>\n",
       "      <td>0.0</td>\n",
       "    </tr>\n",
       "    <tr>\n",
       "      <th>Afghanistan</th>\n",
       "      <td>2001</td>\n",
       "      <td>0.498</td>\n",
       "      <td>0.0</td>\n",
       "      <td>0.0</td>\n",
       "      <td>0.0</td>\n",
       "    </tr>\n",
       "    <tr>\n",
       "      <th>Afghanistan</th>\n",
       "      <td>2002</td>\n",
       "      <td>0.555</td>\n",
       "      <td>0.0</td>\n",
       "      <td>0.0</td>\n",
       "      <td>0.0</td>\n",
       "    </tr>\n",
       "    <tr>\n",
       "      <th>Afghanistan</th>\n",
       "      <td>2003</td>\n",
       "      <td>0.630</td>\n",
       "      <td>0.0</td>\n",
       "      <td>0.0</td>\n",
       "      <td>0.0</td>\n",
       "    </tr>\n",
       "    <tr>\n",
       "      <th>Afghanistan</th>\n",
       "      <td>2004</td>\n",
       "      <td>0.565</td>\n",
       "      <td>0.0</td>\n",
       "      <td>0.0</td>\n",
       "      <td>0.0</td>\n",
       "    </tr>\n",
       "  </tbody>\n",
       "</table>\n",
       "</div>"
      ],
      "text/plain": [
       "             Year  Electricity from hydro (TWh)  Electricity from solar (TWh)  \\\n",
       "Entity                                                                          \n",
       "Afghanistan  2000                         0.312                           0.0   \n",
       "Afghanistan  2001                         0.498                           0.0   \n",
       "Afghanistan  2002                         0.555                           0.0   \n",
       "Afghanistan  2003                         0.630                           0.0   \n",
       "Afghanistan  2004                         0.565                           0.0   \n",
       "\n",
       "             Electricity from wind (TWh)  \\\n",
       "Entity                                     \n",
       "Afghanistan                          0.0   \n",
       "Afghanistan                          0.0   \n",
       "Afghanistan                          0.0   \n",
       "Afghanistan                          0.0   \n",
       "Afghanistan                          0.0   \n",
       "\n",
       "             Electricity from other renewables (TWh)  \n",
       "Entity                                                \n",
       "Afghanistan                                      0.0  \n",
       "Afghanistan                                      0.0  \n",
       "Afghanistan                                      0.0  \n",
       "Afghanistan                                      0.0  \n",
       "Afghanistan                                      0.0  "
      ]
     },
     "execution_count": 8,
     "metadata": {},
     "output_type": "execute_result"
    }
   ],
   "source": [
    "production.head() # Checking Dataframe"
   ]
  },
  {
   "cell_type": "code",
   "execution_count": 10,
   "id": "49c35753-1b00-42fc-9884-cf72f4a03dc0",
   "metadata": {
    "tags": []
   },
   "outputs": [
    {
     "data": {
      "text/html": [
       "<div>\n",
       "<style scoped>\n",
       "    .dataframe tbody tr th:only-of-type {\n",
       "        vertical-align: middle;\n",
       "    }\n",
       "\n",
       "    .dataframe tbody tr th {\n",
       "        vertical-align: top;\n",
       "    }\n",
       "\n",
       "    .dataframe thead th {\n",
       "        text-align: right;\n",
       "    }\n",
       "</style>\n",
       "<table border=\"1\" class=\"dataframe\">\n",
       "  <thead>\n",
       "    <tr style=\"text-align: right;\">\n",
       "      <th></th>\n",
       "      <th>Year</th>\n",
       "      <th>Electricity from hydro (TWh)</th>\n",
       "      <th>Electricity from solar (TWh)</th>\n",
       "      <th>Electricity from wind (TWh)</th>\n",
       "      <th>Electricity from other renewables (TWh)</th>\n",
       "    </tr>\n",
       "    <tr>\n",
       "      <th>Entity</th>\n",
       "      <th></th>\n",
       "      <th></th>\n",
       "      <th></th>\n",
       "      <th></th>\n",
       "      <th></th>\n",
       "    </tr>\n",
       "  </thead>\n",
       "  <tbody>\n",
       "    <tr>\n",
       "      <th>Brazil</th>\n",
       "      <td>2010</td>\n",
       "      <td>399.256000</td>\n",
       "      <td>0.001000</td>\n",
       "      <td>2.177000</td>\n",
       "      <td>31.495000</td>\n",
       "    </tr>\n",
       "    <tr>\n",
       "      <th>Brazil</th>\n",
       "      <td>2011</td>\n",
       "      <td>424.050000</td>\n",
       "      <td>0.002000</td>\n",
       "      <td>2.705000</td>\n",
       "      <td>32.434000</td>\n",
       "    </tr>\n",
       "    <tr>\n",
       "      <th>Brazil</th>\n",
       "      <td>2012</td>\n",
       "      <td>411.189000</td>\n",
       "      <td>0.007000</td>\n",
       "      <td>5.050000</td>\n",
       "      <td>35.645000</td>\n",
       "    </tr>\n",
       "    <tr>\n",
       "      <th>Brazil</th>\n",
       "      <td>2013</td>\n",
       "      <td>387.082000</td>\n",
       "      <td>0.005000</td>\n",
       "      <td>6.580000</td>\n",
       "      <td>40.762000</td>\n",
       "    </tr>\n",
       "    <tr>\n",
       "      <th>Brazil</th>\n",
       "      <td>2014</td>\n",
       "      <td>369.705000</td>\n",
       "      <td>0.016000</td>\n",
       "      <td>12.210000</td>\n",
       "      <td>46.688000</td>\n",
       "    </tr>\n",
       "    <tr>\n",
       "      <th>Brazil</th>\n",
       "      <td>2015</td>\n",
       "      <td>356.146000</td>\n",
       "      <td>0.059000</td>\n",
       "      <td>21.630000</td>\n",
       "      <td>49.446000</td>\n",
       "    </tr>\n",
       "    <tr>\n",
       "      <th>Brazil</th>\n",
       "      <td>2016</td>\n",
       "      <td>377.102000</td>\n",
       "      <td>0.085000</td>\n",
       "      <td>33.490000</td>\n",
       "      <td>50.936000</td>\n",
       "    </tr>\n",
       "    <tr>\n",
       "      <th>Brazil</th>\n",
       "      <td>2017</td>\n",
       "      <td>367.197000</td>\n",
       "      <td>0.832000</td>\n",
       "      <td>42.370000</td>\n",
       "      <td>52.539000</td>\n",
       "    </tr>\n",
       "    <tr>\n",
       "      <th>Brazil</th>\n",
       "      <td>2018</td>\n",
       "      <td>385.081000</td>\n",
       "      <td>3.461000</td>\n",
       "      <td>48.475000</td>\n",
       "      <td>53.911000</td>\n",
       "    </tr>\n",
       "    <tr>\n",
       "      <th>Brazil</th>\n",
       "      <td>2019</td>\n",
       "      <td>393.898000</td>\n",
       "      <td>6.655000</td>\n",
       "      <td>55.986000</td>\n",
       "      <td>54.514000</td>\n",
       "    </tr>\n",
       "    <tr>\n",
       "      <th>Brazil</th>\n",
       "      <td>2020</td>\n",
       "      <td>391.198652</td>\n",
       "      <td>7.593308</td>\n",
       "      <td>56.677753</td>\n",
       "      <td>54.741569</td>\n",
       "    </tr>\n",
       "  </tbody>\n",
       "</table>\n",
       "</div>"
      ],
      "text/plain": [
       "        Year  Electricity from hydro (TWh)  Electricity from solar (TWh)  \\\n",
       "Entity                                                                     \n",
       "Brazil  2010                    399.256000                      0.001000   \n",
       "Brazil  2011                    424.050000                      0.002000   \n",
       "Brazil  2012                    411.189000                      0.007000   \n",
       "Brazil  2013                    387.082000                      0.005000   \n",
       "Brazil  2014                    369.705000                      0.016000   \n",
       "Brazil  2015                    356.146000                      0.059000   \n",
       "Brazil  2016                    377.102000                      0.085000   \n",
       "Brazil  2017                    367.197000                      0.832000   \n",
       "Brazil  2018                    385.081000                      3.461000   \n",
       "Brazil  2019                    393.898000                      6.655000   \n",
       "Brazil  2020                    391.198652                      7.593308   \n",
       "\n",
       "        Electricity from wind (TWh)  Electricity from other renewables (TWh)  \n",
       "Entity                                                                        \n",
       "Brazil                     2.177000                                31.495000  \n",
       "Brazil                     2.705000                                32.434000  \n",
       "Brazil                     5.050000                                35.645000  \n",
       "Brazil                     6.580000                                40.762000  \n",
       "Brazil                    12.210000                                46.688000  \n",
       "Brazil                    21.630000                                49.446000  \n",
       "Brazil                    33.490000                                50.936000  \n",
       "Brazil                    42.370000                                52.539000  \n",
       "Brazil                    48.475000                                53.911000  \n",
       "Brazil                    55.986000                                54.514000  \n",
       "Brazil                    56.677753                                54.741569  "
      ]
     },
     "execution_count": 10,
     "metadata": {},
     "output_type": "execute_result"
    }
   ],
   "source": [
    "production.loc['Brazil'].tail(11) # .tail() specifies the range of analysis (last decade)."
   ]
  },
  {
   "cell_type": "markdown",
   "id": "3b2eb199-6496-40b0-a712-eab759803f91",
   "metadata": {},
   "source": [
    "### Checking and cleaning Data"
   ]
  },
  {
   "cell_type": "code",
   "execution_count": 11,
   "id": "d12394cc-d0ce-42d6-ad18-6286a7370980",
   "metadata": {},
   "outputs": [],
   "source": [
    "# Checking whether the countries of our sample have missing data or not and if there are duplicated values."
   ]
  },
  {
   "cell_type": "code",
   "execution_count": 14,
   "id": "b11f066f-4e4e-4e15-97cf-e0e1b28ae381",
   "metadata": {
    "tags": []
   },
   "outputs": [
    {
     "data": {
      "text/plain": [
       "Year                                       0\n",
       "Electricity from hydro (TWh)               0\n",
       "Electricity from solar (TWh)               0\n",
       "Electricity from wind (TWh)                0\n",
       "Electricity from other renewables (TWh)    0\n",
       "dtype: int64"
      ]
     },
     "execution_count": 14,
     "metadata": {},
     "output_type": "execute_result"
    }
   ],
   "source": [
    "production.loc['Brazil'].isnull().sum()\n",
    "production.loc['Russia'].isnull().sum()\n",
    "production.loc['South Korea'].isnull().sum() # Confirmed! No missing null data.\n",
    "production.loc['Canada'].isnull().sum()"
   ]
  },
  {
   "cell_type": "code",
   "execution_count": 15,
   "id": "326e6602-3860-49d6-9b67-5dd7c4f41a33",
   "metadata": {},
   "outputs": [],
   "source": [
    "# Checking for duplicated values in each country."
   ]
  },
  {
   "cell_type": "code",
   "execution_count": 16,
   "id": "8b4e8e9d-545f-4e72-86f9-514dac8ef557",
   "metadata": {},
   "outputs": [
    {
     "data": {
      "text/plain": [
       "False"
      ]
     },
     "execution_count": 16,
     "metadata": {},
     "output_type": "execute_result"
    }
   ],
   "source": [
    "production.loc['Brazil'].duplicated().any()\n",
    "production.loc['Russia'].duplicated().any()\n",
    "production.loc['South Korea'].duplicated().any() # No duplicated values. Great!\n",
    "production.loc['Canada'].duplicated().any()"
   ]
  },
  {
   "cell_type": "markdown",
   "id": "fd9cf53c-1e29-4b70-b352-597c2711c783",
   "metadata": {},
   "source": [
    "### Filtering the countries, range for the analisys (2010-2020) and renewable sources."
   ]
  },
  {
   "cell_type": "code",
   "execution_count": 18,
   "id": "a27ec046-0548-4401-ae77-ac91ec1e9256",
   "metadata": {},
   "outputs": [],
   "source": [
    "def ren_source(country, source=False):\n",
    "    all_sources = production.loc[str(country)].tail(11)\n",
    "    if source:\n",
    "        if source == 'hydro':\n",
    "            source = production.loc[[str(country)], 'Electricity from hydro (TWh)'].tail(11)\n",
    "            return source\n",
    "        elif source == 'solar':\n",
    "            source = production.loc[[str(country)], 'Electricity from solar (TWh)'].tail(11)\n",
    "            return source\n",
    "        elif source == 'wind':\n",
    "            source = production.loc[[str(country)], 'Electricity from wind (TWh)'].tail(11)\n",
    "            return source\n",
    "        elif source == 'other':\n",
    "            source = production.loc[[str(country)], 'Electricity from other renewables (TWh)'].tail(11)\n",
    "            return source\n",
    "    else:\n",
    "        return all_sources"
   ]
  },
  {
   "cell_type": "code",
   "execution_count": 28,
   "id": "e5ecf660-2bff-46d6-8a9b-658178a932cd",
   "metadata": {},
   "outputs": [
    {
     "data": {
      "text/html": [
       "<div>\n",
       "<style scoped>\n",
       "    .dataframe tbody tr th:only-of-type {\n",
       "        vertical-align: middle;\n",
       "    }\n",
       "\n",
       "    .dataframe tbody tr th {\n",
       "        vertical-align: top;\n",
       "    }\n",
       "\n",
       "    .dataframe thead th {\n",
       "        text-align: right;\n",
       "    }\n",
       "</style>\n",
       "<table border=\"1\" class=\"dataframe\">\n",
       "  <thead>\n",
       "    <tr style=\"text-align: right;\">\n",
       "      <th></th>\n",
       "      <th>Year</th>\n",
       "      <th>Electricity from hydro (TWh)</th>\n",
       "      <th>Electricity from solar (TWh)</th>\n",
       "      <th>Electricity from wind (TWh)</th>\n",
       "      <th>Electricity from other renewables (TWh)</th>\n",
       "    </tr>\n",
       "    <tr>\n",
       "      <th>Entity</th>\n",
       "      <th></th>\n",
       "      <th></th>\n",
       "      <th></th>\n",
       "      <th></th>\n",
       "      <th></th>\n",
       "    </tr>\n",
       "  </thead>\n",
       "  <tbody>\n",
       "    <tr>\n",
       "      <th>Brazil</th>\n",
       "      <td>2010</td>\n",
       "      <td>399.256000</td>\n",
       "      <td>0.001000</td>\n",
       "      <td>2.177000</td>\n",
       "      <td>31.495000</td>\n",
       "    </tr>\n",
       "    <tr>\n",
       "      <th>Brazil</th>\n",
       "      <td>2011</td>\n",
       "      <td>424.050000</td>\n",
       "      <td>0.002000</td>\n",
       "      <td>2.705000</td>\n",
       "      <td>32.434000</td>\n",
       "    </tr>\n",
       "    <tr>\n",
       "      <th>Brazil</th>\n",
       "      <td>2012</td>\n",
       "      <td>411.189000</td>\n",
       "      <td>0.007000</td>\n",
       "      <td>5.050000</td>\n",
       "      <td>35.645000</td>\n",
       "    </tr>\n",
       "    <tr>\n",
       "      <th>Brazil</th>\n",
       "      <td>2013</td>\n",
       "      <td>387.082000</td>\n",
       "      <td>0.005000</td>\n",
       "      <td>6.580000</td>\n",
       "      <td>40.762000</td>\n",
       "    </tr>\n",
       "    <tr>\n",
       "      <th>Brazil</th>\n",
       "      <td>2014</td>\n",
       "      <td>369.705000</td>\n",
       "      <td>0.016000</td>\n",
       "      <td>12.210000</td>\n",
       "      <td>46.688000</td>\n",
       "    </tr>\n",
       "    <tr>\n",
       "      <th>Brazil</th>\n",
       "      <td>2015</td>\n",
       "      <td>356.146000</td>\n",
       "      <td>0.059000</td>\n",
       "      <td>21.630000</td>\n",
       "      <td>49.446000</td>\n",
       "    </tr>\n",
       "    <tr>\n",
       "      <th>Brazil</th>\n",
       "      <td>2016</td>\n",
       "      <td>377.102000</td>\n",
       "      <td>0.085000</td>\n",
       "      <td>33.490000</td>\n",
       "      <td>50.936000</td>\n",
       "    </tr>\n",
       "    <tr>\n",
       "      <th>Brazil</th>\n",
       "      <td>2017</td>\n",
       "      <td>367.197000</td>\n",
       "      <td>0.832000</td>\n",
       "      <td>42.370000</td>\n",
       "      <td>52.539000</td>\n",
       "    </tr>\n",
       "    <tr>\n",
       "      <th>Brazil</th>\n",
       "      <td>2018</td>\n",
       "      <td>385.081000</td>\n",
       "      <td>3.461000</td>\n",
       "      <td>48.475000</td>\n",
       "      <td>53.911000</td>\n",
       "    </tr>\n",
       "    <tr>\n",
       "      <th>Brazil</th>\n",
       "      <td>2019</td>\n",
       "      <td>393.898000</td>\n",
       "      <td>6.655000</td>\n",
       "      <td>55.986000</td>\n",
       "      <td>54.514000</td>\n",
       "    </tr>\n",
       "    <tr>\n",
       "      <th>Brazil</th>\n",
       "      <td>2020</td>\n",
       "      <td>391.198652</td>\n",
       "      <td>7.593308</td>\n",
       "      <td>56.677753</td>\n",
       "      <td>54.741569</td>\n",
       "    </tr>\n",
       "  </tbody>\n",
       "</table>\n",
       "</div>"
      ],
      "text/plain": [
       "        Year  Electricity from hydro (TWh)  Electricity from solar (TWh)  \\\n",
       "Entity                                                                     \n",
       "Brazil  2010                    399.256000                      0.001000   \n",
       "Brazil  2011                    424.050000                      0.002000   \n",
       "Brazil  2012                    411.189000                      0.007000   \n",
       "Brazil  2013                    387.082000                      0.005000   \n",
       "Brazil  2014                    369.705000                      0.016000   \n",
       "Brazil  2015                    356.146000                      0.059000   \n",
       "Brazil  2016                    377.102000                      0.085000   \n",
       "Brazil  2017                    367.197000                      0.832000   \n",
       "Brazil  2018                    385.081000                      3.461000   \n",
       "Brazil  2019                    393.898000                      6.655000   \n",
       "Brazil  2020                    391.198652                      7.593308   \n",
       "\n",
       "        Electricity from wind (TWh)  Electricity from other renewables (TWh)  \n",
       "Entity                                                                        \n",
       "Brazil                     2.177000                                31.495000  \n",
       "Brazil                     2.705000                                32.434000  \n",
       "Brazil                     5.050000                                35.645000  \n",
       "Brazil                     6.580000                                40.762000  \n",
       "Brazil                    12.210000                                46.688000  \n",
       "Brazil                    21.630000                                49.446000  \n",
       "Brazil                    33.490000                                50.936000  \n",
       "Brazil                    42.370000                                52.539000  \n",
       "Brazil                    48.475000                                53.911000  \n",
       "Brazil                    55.986000                                54.514000  \n",
       "Brazil                    56.677753                                54.741569  "
      ]
     },
     "execution_count": 28,
     "metadata": {},
     "output_type": "execute_result"
    }
   ],
   "source": [
    "# Brazil's info in our range.\n",
    "\n",
    "ren_source('Brazil') # Returns whole range table when source not specified"
   ]
  },
  {
   "cell_type": "code",
   "execution_count": 23,
   "id": "fc1c158c-6aa6-4775-b6b0-bd45b2eac4aa",
   "metadata": {},
   "outputs": [],
   "source": [
    "# Checking function. Test: Electricity from hydro (TWh)"
   ]
  },
  {
   "cell_type": "code",
   "execution_count": 25,
   "id": "7be9328c-021e-491e-8644-f41bc41bddea",
   "metadata": {
    "collapsed": true,
    "jupyter": {
     "outputs_hidden": true
    },
    "tags": []
   },
   "outputs": [
    {
     "data": {
      "text/plain": [
       "(Entity\n",
       " Brazil    399.256000\n",
       " Brazil    424.050000\n",
       " Brazil    411.189000\n",
       " Brazil    387.082000\n",
       " Brazil    369.705000\n",
       " Brazil    356.146000\n",
       " Brazil    377.102000\n",
       " Brazil    367.197000\n",
       " Brazil    385.081000\n",
       " Brazil    393.898000\n",
       " Brazil    391.198652\n",
       " Name: Electricity from hydro (TWh), dtype: float64,\n",
       " Entity\n",
       " Brazil    0.001000\n",
       " Brazil    0.002000\n",
       " Brazil    0.007000\n",
       " Brazil    0.005000\n",
       " Brazil    0.016000\n",
       " Brazil    0.059000\n",
       " Brazil    0.085000\n",
       " Brazil    0.832000\n",
       " Brazil    3.461000\n",
       " Brazil    6.655000\n",
       " Brazil    7.593308\n",
       " Name: Electricity from solar (TWh), dtype: float64)"
      ]
     },
     "execution_count": 25,
     "metadata": {},
     "output_type": "execute_result"
    }
   ],
   "source": [
    "ren_source('Brazil', 'hydro'), ren_source('Brazil', 'solar') # Same values!"
   ]
  },
  {
   "cell_type": "markdown",
   "id": "37e8425d-d020-4421-bac9-f85c33e86f78",
   "metadata": {},
   "source": [
    "### Getting the mean for each using the same structure from the previous function"
   ]
  },
  {
   "cell_type": "code",
   "execution_count": 27,
   "id": "230c68d3-9ea0-4419-a617-953688789978",
   "metadata": {},
   "outputs": [],
   "source": [
    "def mean_source(country, source=False):\n",
    "    all_sources = production.loc[str(country)].tail(11).mean()\n",
    "\n",
    "    if source:\n",
    "        if source == 'hydro':\n",
    "            source = production.loc[[str(country)], 'Electricity from hydro (TWh)'].tail(11).mean()\n",
    "            return source\n",
    "        elif source == 'solar':\n",
    "            source = production.loc[[str(country)], 'Electricity from solar (TWh)'].tail(11).mean()\n",
    "            return source\n",
    "        elif source == 'wind':\n",
    "            source = production.loc[[str(country)], 'Electricity from wind (TWh)'].tail(11).mean()\n",
    "            return source\n",
    "        elif source == 'other':\n",
    "            source = production.loc[[str(country)], 'Electricity from other renewables (TWh)'].tail(11).mean()\n",
    "            return source\n",
    "    else:\n",
    "        return all_sources"
   ]
  },
  {
   "cell_type": "code",
   "execution_count": 34,
   "id": "8ed5ca3d-bb19-4092-be23-3c235839087d",
   "metadata": {},
   "outputs": [
    {
     "data": {
      "text/plain": [
       "387.44587749090914"
      ]
     },
     "execution_count": 34,
     "metadata": {},
     "output_type": "execute_result"
    }
   ],
   "source": [
    "production.loc[['Brazil'], 'Electricity from hydro (TWh)'].tail(11).mean() # Without the function"
   ]
  },
  {
   "cell_type": "code",
   "execution_count": 35,
   "id": "b69c1552-49fc-4dcf-bb9d-d9b8fbeff86c",
   "metadata": {},
   "outputs": [
    {
     "data": {
      "text/plain": [
       "387.44587749090914"
      ]
     },
     "execution_count": 35,
     "metadata": {},
     "output_type": "execute_result"
    }
   ],
   "source": [
    "mean_source('Brazil', 'hydro') # With the function"
   ]
  },
  {
   "cell_type": "markdown",
   "id": "7d84ac08-3ed3-4f4d-ab09-5e1080d7dcbd",
   "metadata": {},
   "source": [
    "### Data Visualization 1 - Comparison of electricity production among countries (line plot)"
   ]
  },
  {
   "cell_type": "code",
   "execution_count": 43,
   "id": "4a8e108c-5abb-4ace-9c8c-af9babca8c6b",
   "metadata": {
    "tags": []
   },
   "outputs": [
    {
     "data": {
      "image/png": "[encoded data removed]",
      "text/plain": [
       "<Figure size 1080x540 with 4 Axes>"
      ]
     },
     "metadata": {},
     "output_type": "display_data"
    }
   ],
   "source": [
    "sns.set_theme(style='whitegrid')\n",
    "sns.set_context(\"notebook\", font_scale=1, rc={\"lines.linewidth\": 2.0})\n",
    "period = list(range(2010, 2021))\n",
    "plt.rcParams['figure.figsize'] = [15, 7.5] # Not in .py file. Added to adjust the size in Jupyter.\n",
    "fig, axs = plt.subplots(2, 2)\n",
    "\n",
    "axs[0, 0].plot(period, ren_source('Brazil', 'hydro'), label='Hydro', marker='.')\n",
    "axs[0, 0].plot(period, ren_source('Brazil', 'solar'), label='Solar', marker='.')\n",
    "axs[0, 0].plot(period, ren_source('Brazil', 'wind'), label='Wind', marker='.')\n",
    "axs[0, 0].plot(period, ren_source('Brazil', 'other'), label='Other', marker='.')\n",
    "axs[0, 0].set_title('Brazil')\n",
    "\n",
    "axs[0, 1].plot(period, ren_source('Russia', 'hydro'), label='Hydro', marker='.')\n",
    "axs[0, 1].plot(period, ren_source('Russia', 'solar'), label='Solar', marker='.')\n",
    "axs[0, 1].plot(period, ren_source('Russia', 'wind'), label='Wind', marker='.')\n",
    "axs[0, 1].plot(period, ren_source('Russia', 'other'), label='Other', marker='.')\n",
    "axs[0, 1].set_title('Russia')\n",
    "\n",
    "axs[1, 0].plot(period, ren_source('South Korea', 'hydro'), label='Hydro', marker='.')\n",
    "axs[1, 0].plot(period, ren_source('South Korea', 'solar'), label='Solar', marker='.')\n",
    "axs[1, 0].plot(period, ren_source('South Korea', 'wind'), label='Wind', marker='.')\n",
    "axs[1, 0].plot(period, ren_source('South Korea', 'other'), label='Other', marker='.')\n",
    "axs[1, 0].set_title('South Korea')\n",
    "\n",
    "axs[1, 1].plot(period, ren_source('Canada', 'hydro'), label='Hydro', marker='.')\n",
    "axs[1, 1].plot(period, ren_source('Canada', 'solar'), label='Solar', marker='.')\n",
    "axs[1, 1].plot(period, ren_source('Canada', 'wind'), label='Wind', marker='.')\n",
    "axs[1, 1].plot(period, ren_source('Canada', 'other'), label='Other', marker='.')\n",
    "axs[1, 1].set_title('Canada')\n",
    "\n",
    "# Setting labels for each plot\n",
    "for ax in axs.flat:\n",
    "    ax.set(xlabel='Years', ylabel='Production in Terawatt-hour (TWh)')\n",
    "    \n",
    "plt.suptitle('Electricity production from renewable sources (2010 - 2020)')\n",
    "plt.subplots_adjust(wspace=0.3, hspace=0.45)\n",
    "plt.legend()\n",
    "plt.show()"
   ]
  },
  {
   "cell_type": "markdown",
   "id": "a2623b10-7368-484c-8024-4ceff7599837",
   "metadata": {},
   "source": [
    "### Data Visualization 2 - Mean of production by country/source (horizontal bar)"
   ]
  },
  {
   "cell_type": "code",
   "execution_count": 44,
   "id": "fa7ac1d6-28e3-4bd7-a315-6880c7b62bec",
   "metadata": {},
   "outputs": [],
   "source": [
    "# Countries = y axis | source_means = x axis"
   ]
  },
  {
   "cell_type": "code",
   "execution_count": 48,
   "id": "313f6947-b7fb-4a20-881f-ba8eab59d2cf",
   "metadata": {},
   "outputs": [
    {
     "data": {
      "image/png": "[encoded data removed]",
      "text/plain": [
       "<Figure size 1080x540 with 4 Axes>"
      ]
     },
     "metadata": {},
     "output_type": "display_data"
    }
   ],
   "source": [
    "hydro_countries = ['Brazil', 'Russia', 'South Korea', 'Canada']\n",
    "hydro_means = [mean_source('Brazil', 'hydro'), mean_source('Russia', 'hydro'), mean_source('South Korea', 'hydro'), mean_source('Canada', 'hydro')]\n",
    "\n",
    "solar_countries = ['Brazil', 'Russia', 'South Korea', 'Canada']\n",
    "solar_means = [mean_source('Brazil', 'solar'), mean_source('Russia', 'solar'), mean_source('South Korea', 'solar'), mean_source('Canada', 'solar')]\n",
    "\n",
    "wind_countries = ['Brazil', 'Russia', 'South Korea', 'Canada']\n",
    "wind_means = [mean_source('Brazil', 'wind'), mean_source('Russia', 'wind'), mean_source('South Korea', 'wind'), mean_source('Canada', 'wind')]\n",
    "\n",
    "other_countries = ['Brazil', 'Russia', 'South Korea', 'Canada']\n",
    "other_sources_means = [mean_source('Brazil', 'other'), mean_source('Russia', 'other'), mean_source('South Korea', 'other'), mean_source('Canada', 'other')]\n",
    "\n",
    "# Setting the plot speficications (number of subplots, background, etc.)\n",
    "sns.set_theme(style='whitegrid')\n",
    "sns.set_context(\"notebook\", font_scale=1, rc={\"lines.linewidth\": 2.0})\n",
    "plt.rcParams['figure.figsize'] = [15, 7.5] # Not in .py file. Added to adjust the size in Jupyter.\n",
    "fig, axs = plt.subplots(2, 2)\n",
    "\n",
    "axs[0, 0].barh(hydro_countries, hydro_means)\n",
    "axs[0, 0].set_title('Hydro')\n",
    "\n",
    "axs[0, 1].barh(solar_countries, solar_means)\n",
    "axs[0, 1].set_title('Solar')\n",
    "\n",
    "axs[1, 0].barh(wind_countries, wind_means)\n",
    "axs[1, 0].set_title('Wind')\n",
    "\n",
    "axs[1, 1].barh(other_countries, other_sources_means)\n",
    "axs[1, 1].set_title('Other')\n",
    "\n",
    "for ax in axs.flat: # So that the two subplots show the xlabel\n",
    "    ax.set(xlabel='Production in TWh')\n",
    "\n",
    "plt.suptitle('Average production by source and country in the last decade (2010-2020)')\n",
    "plt.subplots_adjust(wspace=0.35, hspace=0.5) # Space between subplots\n",
    "plt.show()"
   ]
  }
 ],
 "metadata": {
  "kernelspec": {
   "display_name": "Python 3",
   "language": "python",
   "name": "python3"
  },
  "language_info": {
   "codemirror_mode": {
    "name": "ipython",
    "version": 3
   },
   "file_extension": ".py",
   "mimetype": "text/x-python",
   "name": "python",
   "nbconvert_exporter": "python",
   "pygments_lexer": "ipython3",
   "version": "3.7.8"
  }
 },
 "nbformat": 4,
 "nbformat_minor": 5
}
